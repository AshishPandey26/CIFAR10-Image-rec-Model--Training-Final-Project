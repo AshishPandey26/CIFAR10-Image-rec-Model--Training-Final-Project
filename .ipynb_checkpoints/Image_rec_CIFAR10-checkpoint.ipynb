{
 "cells": [
  {
   "cell_type": "code",
   "execution_count": 1,
   "id": "e5abb7b1-aef8-456d-9383-93827da38fa8",
   "metadata": {},
   "outputs": [
    {
     "name": "stderr",
     "output_type": "stream",
     "text": [
      "C:\\Users\\HP\\anaconda3\\lib\\site-packages\\numpy\\_distributor_init.py:30: UserWarning: loaded more than 1 DLL from .libs:\n",
      "C:\\Users\\HP\\anaconda3\\lib\\site-packages\\numpy\\.libs\\libopenblas.4SP5SUA7CBGXUEOC35YP2ASOICYYEQZZ.gfortran-win_amd64.dll\n",
      "C:\\Users\\HP\\anaconda3\\lib\\site-packages\\numpy\\.libs\\libopenblas.EL2C6PLE4ZYW3ECEVIV3OXXGRN2NRFM2.gfortran-win_amd64.dll\n",
      "C:\\Users\\HP\\anaconda3\\lib\\site-packages\\numpy\\.libs\\libopenblas.GK7GX5KEQ4F6UYO3P26ULGBQYHGQO7J4.gfortran-win_amd64.dll\n",
      "C:\\Users\\HP\\anaconda3\\lib\\site-packages\\numpy\\.libs\\libopenblas.XWYDX2IKJW2NMTWSFYNGFUWKQU3LYTCZ.gfortran-win_amd64.dll\n",
      "C:\\Users\\HP\\anaconda3\\lib\\site-packages\\numpy\\.libs\\libopenblas64__v0.3.23-gcc_10_3_0.dll\n",
      "  warnings.warn(\"loaded more than 1 DLL from .libs:\"\n"
     ]
    }
   ],
   "source": [
    "import os\n",
    "import numpy as np\n",
    "import cv2\n",
    "from PIL import Image"
   ]
  },
  {
   "cell_type": "code",
   "execution_count": 2,
   "id": "ca0416c1-d732-4826-9564-098d308a2aad",
   "metadata": {
    "scrolled": true
   },
   "outputs": [],
   "source": [
    "import tensorflow as tf"
   ]
  },
  {
   "cell_type": "code",
   "execution_count": 3,
   "id": "a4a3faa9-426f-42ad-9aa4-37eb5deb3d82",
   "metadata": {},
   "outputs": [],
   "source": [
    "image_path = r\"E:\\BTC Market Project\\cifar-10\\images\\train\\2.png\""
   ]
  },
  {
   "cell_type": "code",
   "execution_count": 4,
   "id": "cd6352fc-87e5-4b49-b316-199462e88b5e",
   "metadata": {},
   "outputs": [
    {
     "data": {
      "image/jpeg": "[encoded data removed]",
      "image/png": "[encoded data removed]",
      "text/plain": [
       "<PIL.PngImagePlugin.PngImageFile image mode=RGB size=32x32>"
      ]
     },
     "execution_count": 4,
     "metadata": {},
     "output_type": "execute_result"
    }
   ],
   "source": [
    "truck_image = Image.open(image_path)\n",
    "truck_image"
   ]
  },
  {
   "cell_type": "code",
   "execution_count": 5,
   "id": "97b9e1a5-8109-4281-b6f3-6d6b633d3994",
   "metadata": {},
   "outputs": [],
   "source": [
    "import tensorflow as tf\n",
    "from tensorflow.keras import datasets, layers, models\n",
    "import matplotlib.pyplot as plt\n",
    "import numpy as np\n"
   ]
  },
  {
   "cell_type": "code",
   "execution_count": 6,
   "id": "77d8d37b-d00a-4c14-bb76-9ced8137737e",
   "metadata": {},
   "outputs": [],
   "source": [
    "# Load the dataset\n",
    "(train_images, train_labels), (test_images, test_labels) = datasets.cifar10.load_data()\n",
    "\n"
   ]
  },
  {
   "cell_type": "code",
   "execution_count": 7,
   "id": "079dd453-1496-45e5-b14f-a21532591d82",
   "metadata": {},
   "outputs": [],
   "source": [
    "# Normalize pixel values to be between 0 and 1\n",
    "train_images, test_images = train_images / 255.0, test_images / 255.0"
   ]
  },
  {
   "cell_type": "code",
   "execution_count": 8,
   "id": "9269944b-1f20-4e94-8034-4254689fb89d",
   "metadata": {},
   "outputs": [],
   "source": [
    "# train_images"
   ]
  },
  {
   "cell_type": "code",
   "execution_count": 9,
   "id": "090c6a3f-58a7-471d-a2ac-adb0f50765e8",
   "metadata": {},
   "outputs": [],
   "source": [
    "model = models.Sequential([\n",
    "    layers.Conv2D(32, (3, 3), activation='relu', input_shape=(32, 32, 3)),\n",
    "    layers.MaxPooling2D((2, 2)),\n",
    "    layers.Conv2D(64, (3, 3), activation='relu'),\n",
    "    layers.MaxPooling2D((2, 2)),\n",
    "    layers.Conv2D(64, (3, 3), activation='relu'),\n",
    "    layers.Flatten(),\n",
    "    layers.Dense(64, activation='relu'),\n",
    "    layers.Dense(10)\n",
    "])\n"
   ]
  },
  {
   "cell_type": "code",
   "execution_count": 10,
   "id": "031106b2-e759-40dd-a460-47e071da5fa9",
   "metadata": {},
   "outputs": [],
   "source": [
    "model.compile(optimizer='adam',\n",
    "              loss=tf.keras.losses.SparseCategoricalCrossentropy(from_logits=True),\n",
    "              metrics=['accuracy'])\n"
   ]
  },
  {
   "cell_type": "code",
   "execution_count": 21,
   "id": "dca9ed2c-5cbc-4a01-a031-4d4fbb4bb493",
   "metadata": {},
   "outputs": [
    {
     "name": "stdout",
     "output_type": "stream",
     "text": [
      "Epoch 1/20\n",
      "1563/1563 [==============================] - 41s 23ms/step - loss: 0.6118 - accuracy: 0.7853 - val_loss: 0.8700 - val_accuracy: 0.7101\n",
      "Epoch 2/20\n",
      "1563/1563 [==============================] - 34s 22ms/step - loss: 0.5780 - accuracy: 0.7979 - val_loss: 0.8857 - val_accuracy: 0.7050\n",
      "Epoch 3/20\n",
      "1563/1563 [==============================] - 34s 21ms/step - loss: 0.5507 - accuracy: 0.8072 - val_loss: 0.9116 - val_accuracy: 0.7010\n",
      "Epoch 4/20\n",
      "1563/1563 [==============================] - 34s 22ms/step - loss: 0.5206 - accuracy: 0.8165 - val_loss: 0.9321 - val_accuracy: 0.6991\n",
      "Epoch 5/20\n",
      "1563/1563 [==============================] - 34s 22ms/step - loss: 0.4907 - accuracy: 0.8261 - val_loss: 0.9287 - val_accuracy: 0.7153\n",
      "Epoch 6/20\n",
      "1563/1563 [==============================] - 34s 22ms/step - loss: 0.4680 - accuracy: 0.8341 - val_loss: 0.9815 - val_accuracy: 0.6990\n",
      "Epoch 7/20\n",
      "1563/1563 [==============================] - 34s 22ms/step - loss: 0.4412 - accuracy: 0.8440 - val_loss: 0.9975 - val_accuracy: 0.7063\n",
      "Epoch 8/20\n",
      "1563/1563 [==============================] - 34s 22ms/step - loss: 0.4184 - accuracy: 0.8515 - val_loss: 1.0587 - val_accuracy: 0.7006\n",
      "Epoch 9/20\n",
      "1563/1563 [==============================] - 32s 20ms/step - loss: 0.3937 - accuracy: 0.8599 - val_loss: 1.1021 - val_accuracy: 0.7004\n",
      "Epoch 10/20\n",
      "1563/1563 [==============================] - 32s 20ms/step - loss: 0.3771 - accuracy: 0.8647 - val_loss: 1.1236 - val_accuracy: 0.7006\n",
      "Epoch 11/20\n",
      "1563/1563 [==============================] - 32s 20ms/step - loss: 0.3541 - accuracy: 0.8735 - val_loss: 1.1665 - val_accuracy: 0.6992\n",
      "Epoch 12/20\n",
      "1563/1563 [==============================] - 32s 21ms/step - loss: 0.3421 - accuracy: 0.8767 - val_loss: 1.2480 - val_accuracy: 0.6833\n",
      "Epoch 13/20\n",
      "1563/1563 [==============================] - 34s 22ms/step - loss: 0.3170 - accuracy: 0.8858 - val_loss: 1.2720 - val_accuracy: 0.6918\n",
      "Epoch 14/20\n",
      "1563/1563 [==============================] - 35s 22ms/step - loss: 0.3034 - accuracy: 0.8894 - val_loss: 1.3038 - val_accuracy: 0.6941\n",
      "Epoch 15/20\n",
      "1563/1563 [==============================] - 34s 22ms/step - loss: 0.2909 - accuracy: 0.8948 - val_loss: 1.3651 - val_accuracy: 0.6867\n",
      "Epoch 16/20\n",
      "1563/1563 [==============================] - 32s 20ms/step - loss: 0.2760 - accuracy: 0.9002 - val_loss: 1.4353 - val_accuracy: 0.6944\n",
      "Epoch 17/20\n",
      "1563/1563 [==============================] - 32s 21ms/step - loss: 0.2643 - accuracy: 0.9032 - val_loss: 1.4469 - val_accuracy: 0.6907\n",
      "Epoch 18/20\n",
      "1563/1563 [==============================] - 34s 21ms/step - loss: 0.2515 - accuracy: 0.9089 - val_loss: 1.5064 - val_accuracy: 0.6891\n",
      "Epoch 19/20\n",
      "1563/1563 [==============================] - 34s 22ms/step - loss: 0.2403 - accuracy: 0.9127 - val_loss: 1.5386 - val_accuracy: 0.6821\n",
      "Epoch 20/20\n",
      "1563/1563 [==============================] - 34s 22ms/step - loss: 0.2310 - accuracy: 0.9157 - val_loss: 1.6635 - val_accuracy: 0.6762\n"
     ]
    }
   ],
   "source": [
    "history = model.fit(train_images, train_labels, epochs=20, \n",
    "                    validation_data=(test_images, test_labels))\n"
   ]
  },
  {
   "cell_type": "code",
   "execution_count": null,
   "id": "f38722d5-8185-475e-b7ad-5273545c2d0e",
   "metadata": {},
   "outputs": [],
   "source": [
    "test_loss, test_acc = model.evaluate(test_images, test_labels, verbose=2)\n",
    "print(f'\\nTest accuracy: {test_acc}')\n"
   ]
  },
  {
   "cell_type": "code",
   "execution_count": 13,
   "id": "39c60547-6d16-43c1-baaf-bfe4e339f9a7",
   "metadata": {},
   "outputs": [
    {
     "data": {
      "image/png": "[encoded data removed]",
      "text/plain": [
       "<Figure size 576x432 with 1 Axes>"
      ]
     },
     "metadata": {
      "needs_background": "light"
     },
     "output_type": "display_data"
    }
   ],
   "source": [
    "plt.figure(figsize=(8, 6))\n",
    "plt.plot(history.history['accuracy'], label='accuracy')\n",
    "plt.plot(history.history['val_accuracy'], label = 'val_accuracy')\n",
    "plt.xlabel('Epoch')\n",
    "plt.ylabel('Accuracy')\n",
    "plt.ylim([0, 1])\n",
    "plt.legend(loc='lower right')\n",
    "plt.show()\n"
   ]
  },
  {
   "cell_type": "code",
   "execution_count": 14,
   "id": "d14ac0c3-3795-47de-9a8a-1b719526e332",
   "metadata": {},
   "outputs": [
    {
     "name": "stdout",
     "output_type": "stream",
     "text": [
      "313/313 [==============================] - 9s 11ms/step\n",
      "[1.3461938e-05 1.6035224e-04 5.8161787e-04 9.6277028e-01 1.7950826e-04\n",
      " 1.6257646e-02 1.8832728e-02 2.3473952e-04 9.5743989e-04 1.2279171e-05]\n"
     ]
    }
   ],
   "source": [
    "# Convert the logits to probabilities\n",
    "probability_model = tf.keras.Sequential([model, tf.keras.layers.Softmax()])\n",
    "\n",
    "# Make predictions on test images\n",
    "predictions = probability_model.predict(test_images)\n",
    "\n",
    "# Show the first prediction\n",
    "print(predictions[0])\n"
   ]
  },
  {
   "cell_type": "code",
   "execution_count": 15,
   "id": "900fd7b7-8484-4209-af08-55f493e9984d",
   "metadata": {},
   "outputs": [],
   "source": [
    "model.save('cifar10_model.h5')"
   ]
  },
  {
   "cell_type": "code",
   "execution_count": 16,
   "id": "904c9d3b-7412-4558-b122-186fd24c7f65",
   "metadata": {},
   "outputs": [],
   "source": [
    "from tensorflow.keras.models import load_model\n",
    "\n",
    "model = load_model('cifar10_model.h5')"
   ]
  },
  {
   "cell_type": "code",
   "execution_count": 17,
   "id": "ff7fb54f-1e85-4793-a101-96448249407e",
   "metadata": {},
   "outputs": [],
   "source": [
    "# train_images"
   ]
  },
  {
   "cell_type": "code",
   "execution_count": 20,
   "id": "a995ffd7-f393-42ac-8f09-e4466884b9c6",
   "metadata": {},
   "outputs": [
    {
     "name": "stdout",
     "output_type": "stream",
     "text": [
      "313/313 [==============================] - 4s 10ms/step - loss: 0.8701 - accuracy: 0.7023\n",
      "Test accuracy: 0.70\n"
     ]
    }
   ],
   "source": [
    "test_loss, test_acc = model.evaluate(test_images, test_labels)\n",
    "print(f'Test accuracy: {test_acc:.2f}')"
   ]
  }
 ],
 "metadata": {
  "kernelspec": {
   "display_name": "Python 3 (ipykernel)",
   "language": "python",
   "name": "python3"
  },
  "language_info": {
   "codemirror_mode": {
    "name": "ipython",
    "version": 3
   },
   "file_extension": ".py",
   "mimetype": "text/x-python",
   "name": "python",
   "nbconvert_exporter": "python",
   "pygments_lexer": "ipython3",
   "version": "3.9.12"
  }
 },
 "nbformat": 4,
 "nbformat_minor": 5
}
