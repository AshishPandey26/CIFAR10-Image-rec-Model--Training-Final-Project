{
 "cells": [
  {
   "cell_type": "code",
   "execution_count": 1,
   "id": "e5abb7b1-aef8-456d-9383-93827da38fa8",
   "metadata": {},
   "outputs": [
    {
     "name": "stderr",
     "output_type": "stream",
     "text": [
      "C:\\Users\\HP\\anaconda3\\lib\\site-packages\\numpy\\_distributor_init.py:30: UserWarning: loaded more than 1 DLL from .libs:\n",
      "C:\\Users\\HP\\anaconda3\\lib\\site-packages\\numpy\\.libs\\libopenblas.4SP5SUA7CBGXUEOC35YP2ASOICYYEQZZ.gfortran-win_amd64.dll\n",
      "C:\\Users\\HP\\anaconda3\\lib\\site-packages\\numpy\\.libs\\libopenblas.EL2C6PLE4ZYW3ECEVIV3OXXGRN2NRFM2.gfortran-win_amd64.dll\n",
      "C:\\Users\\HP\\anaconda3\\lib\\site-packages\\numpy\\.libs\\libopenblas.GK7GX5KEQ4F6UYO3P26ULGBQYHGQO7J4.gfortran-win_amd64.dll\n",
      "C:\\Users\\HP\\anaconda3\\lib\\site-packages\\numpy\\.libs\\libopenblas.XWYDX2IKJW2NMTWSFYNGFUWKQU3LYTCZ.gfortran-win_amd64.dll\n",
      "C:\\Users\\HP\\anaconda3\\lib\\site-packages\\numpy\\.libs\\libopenblas64__v0.3.23-gcc_10_3_0.dll\n",
      "  warnings.warn(\"loaded more than 1 DLL from .libs:\"\n"
     ]
    }
   ],
   "source": [
    "import os\n",
    "import numpy as np\n",
    "import cv2\n",
    "from PIL import Image"
   ]
  },
  {
   "cell_type": "code",
   "execution_count": 2,
   "id": "ca0416c1-d732-4826-9564-098d308a2aad",
   "metadata": {
    "scrolled": true
   },
   "outputs": [],
   "source": [
    "import tensorflow as tf"
   ]
  },
  {
   "cell_type": "code",
   "execution_count": 3,
   "id": "a4a3faa9-426f-42ad-9aa4-37eb5deb3d82",
   "metadata": {},
   "outputs": [],
   "source": [
    "image_path = r\"E:\\BTC Market Project\\cifar-10\\images\\train\\2.png\""
   ]
  },
  {
   "cell_type": "code",
   "execution_count": 4,
   "id": "cd6352fc-87e5-4b49-b316-199462e88b5e",
   "metadata": {},
   "outputs": [
    {
     "data": {
      "image/jpeg": "[encoded data removed]",
      "image/png": "[encoded data removed]",
      "text/plain": [
       "<PIL.PngImagePlugin.PngImageFile image mode=RGB size=32x32>"
      ]
     },
     "execution_count": 4,
     "metadata": {},
     "output_type": "execute_result"
    }
   ],
   "source": [
    "truck_image = Image.open(image_path)\n",
    "truck_image"
   ]
  },
  {
   "cell_type": "code",
   "execution_count": 5,
   "id": "97b9e1a5-8109-4281-b6f3-6d6b633d3994",
   "metadata": {},
   "outputs": [],
   "source": [
    "import tensorflow as tf\n",
    "from tensorflow.keras import datasets, layers, models\n",
    "import matplotlib.pyplot as plt\n",
    "import numpy as np\n"
   ]
  },
  {
   "cell_type": "code",
   "execution_count": 6,
   "id": "77d8d37b-d00a-4c14-bb76-9ced8137737e",
   "metadata": {},
   "outputs": [],
   "source": [
    "# Load the dataset\n",
    "(train_images, train_labels), (test_images, test_labels) = datasets.cifar10.load_data()\n",
    "\n"
   ]
  },
  {
   "cell_type": "code",
   "execution_count": 7,
   "id": "079dd453-1496-45e5-b14f-a21532591d82",
   "metadata": {},
   "outputs": [],
   "source": [
    "# Normalize pixel values to be between 0 and 1\n",
    "train_images, test_images = train_images / 255.0, test_images / 255.0"
   ]
  },
  {
   "cell_type": "code",
   "execution_count": 8,
   "id": "9269944b-1f20-4e94-8034-4254689fb89d",
   "metadata": {},
   "outputs": [],
   "source": [
    "# train_images"
   ]
  },
  {
   "cell_type": "code",
   "execution_count": 9,
   "id": "090c6a3f-58a7-471d-a2ac-adb0f50765e8",
   "metadata": {},
   "outputs": [],
   "source": [
    "model = models.Sequential([\n",
    "    layers.Conv2D(32, (3, 3), activation='relu', input_shape=(32, 32, 3)),\n",
    "    layers.MaxPooling2D((2, 2)),\n",
    "    layers.Conv2D(64, (3, 3), activation='relu'),\n",
    "    layers.MaxPooling2D((2, 2)),\n",
    "    layers.Conv2D(64, (3, 3), activation='relu'),\n",
    "    layers.Flatten(),\n",
    "    layers.Dense(64, activation='relu'),\n",
    "    layers.Dense(10)\n",
    "])\n"
   ]
  },
  {
   "cell_type": "code",
   "execution_count": 10,
   "id": "031106b2-e759-40dd-a460-47e071da5fa9",
   "metadata": {},
   "outputs": [],
   "source": [
    "model.compile(optimizer='adam',\n",
    "              loss=tf.keras.losses.SparseCategoricalCrossentropy(from_logits=True),\n",
    "              metrics=['accuracy'])\n"
   ]
  },
  {
   "cell_type": "code",
   "execution_count": 11,
   "id": "dca9ed2c-5cbc-4a01-a031-4d4fbb4bb493",
   "metadata": {},
   "outputs": [
    {
     "name": "stdout",
     "output_type": "stream",
     "text": [
      "Epoch 1/20\n",
      "1563/1563 [==============================] - 35s 19ms/step - loss: 1.4768 - accuracy: 0.4604 - val_loss: 1.3054 - val_accuracy: 0.5379\n",
      "Epoch 2/20\n",
      "1563/1563 [==============================] - 30s 19ms/step - loss: 1.1180 - accuracy: 0.6058 - val_loss: 1.0640 - val_accuracy: 0.6243\n",
      "Epoch 3/20\n",
      "1563/1563 [==============================] - 29s 19ms/step - loss: 0.9713 - accuracy: 0.6590 - val_loss: 1.0765 - val_accuracy: 0.6256\n",
      "Epoch 4/20\n",
      "1563/1563 [==============================] - 29s 19ms/step - loss: 0.8742 - accuracy: 0.6933 - val_loss: 0.9005 - val_accuracy: 0.6866\n",
      "Epoch 5/20\n",
      "1563/1563 [==============================] - 29s 19ms/step - loss: 0.8036 - accuracy: 0.7182 - val_loss: 0.9526 - val_accuracy: 0.6755\n",
      "Epoch 6/20\n",
      "1563/1563 [==============================] - 30s 19ms/step - loss: 0.7401 - accuracy: 0.7386 - val_loss: 0.8416 - val_accuracy: 0.7119\n",
      "Epoch 7/20\n",
      "1563/1563 [==============================] - 29s 19ms/step - loss: 0.6881 - accuracy: 0.7585 - val_loss: 0.8803 - val_accuracy: 0.7005\n",
      "Epoch 8/20\n",
      "1563/1563 [==============================] - 29s 19ms/step - loss: 0.6376 - accuracy: 0.7744 - val_loss: 0.8547 - val_accuracy: 0.7094\n",
      "Epoch 9/20\n",
      "1563/1563 [==============================] - 30s 19ms/step - loss: 0.5952 - accuracy: 0.7901 - val_loss: 0.8632 - val_accuracy: 0.7100\n",
      "Epoch 10/20\n",
      "1563/1563 [==============================] - 29s 19ms/step - loss: 0.5512 - accuracy: 0.8062 - val_loss: 0.9145 - val_accuracy: 0.7052\n",
      "Epoch 11/20\n",
      "1563/1563 [==============================] - 30s 19ms/step - loss: 0.5159 - accuracy: 0.8188 - val_loss: 0.8763 - val_accuracy: 0.7196\n",
      "Epoch 12/20\n",
      "1563/1563 [==============================] - 30s 19ms/step - loss: 0.4812 - accuracy: 0.8292 - val_loss: 0.9806 - val_accuracy: 0.7009\n",
      "Epoch 13/20\n",
      "1563/1563 [==============================] - 30s 19ms/step - loss: 0.4532 - accuracy: 0.8379 - val_loss: 0.9676 - val_accuracy: 0.7121\n",
      "Epoch 14/20\n",
      "1563/1563 [==============================] - 30s 19ms/step - loss: 0.4181 - accuracy: 0.8514 - val_loss: 1.0303 - val_accuracy: 0.7041\n",
      "Epoch 15/20\n",
      "1563/1563 [==============================] - 30s 19ms/step - loss: 0.3897 - accuracy: 0.8605 - val_loss: 1.0162 - val_accuracy: 0.7118\n",
      "Epoch 16/20\n",
      "1563/1563 [==============================] - 30s 19ms/step - loss: 0.3622 - accuracy: 0.8694 - val_loss: 1.0753 - val_accuracy: 0.7070\n",
      "Epoch 17/20\n",
      "1563/1563 [==============================] - 31s 20ms/step - loss: 0.3395 - accuracy: 0.8793 - val_loss: 1.1881 - val_accuracy: 0.6996\n",
      "Epoch 18/20\n",
      "1563/1563 [==============================] - 32s 20ms/step - loss: 0.3137 - accuracy: 0.8877 - val_loss: 1.1414 - val_accuracy: 0.7083\n",
      "Epoch 19/20\n",
      "1563/1563 [==============================] - 32s 20ms/step - loss: 0.2944 - accuracy: 0.8948 - val_loss: 1.2052 - val_accuracy: 0.7100\n",
      "Epoch 20/20\n",
      "1563/1563 [==============================] - 30s 19ms/step - loss: 0.2760 - accuracy: 0.8991 - val_loss: 1.2836 - val_accuracy: 0.7046\n"
     ]
    }
   ],
   "source": [
    "history = model.fit(train_images, train_labels, epochs=20, \n",
    "                    validation_data=(test_images, test_labels))\n"
   ]
  },
  {
   "cell_type": "code",
   "execution_count": 12,
   "id": "f38722d5-8185-475e-b7ad-5273545c2d0e",
   "metadata": {},
   "outputs": [
    {
     "name": "stdout",
     "output_type": "stream",
     "text": [
      "313/313 - 3s - loss: 1.2836 - accuracy: 0.7046 - 3s/epoch - 8ms/step\n",
      "\n",
      "Test accuracy: 0.7045999765396118\n"
     ]
    }
   ],
   "source": [
    "test_loss, test_acc = model.evaluate(test_images, test_labels, verbose=2)\n",
    "print(f'\\nTest accuracy: {test_acc}')\n"
   ]
  },
  {
   "cell_type": "code",
   "execution_count": 13,
   "id": "39c60547-6d16-43c1-baaf-bfe4e339f9a7",
   "metadata": {},
   "outputs": [
    {
     "data": {
      "image/png": "[encoded data removed]",
      "text/plain": [
       "<Figure size 576x432 with 1 Axes>"
      ]
     },
     "metadata": {
      "needs_background": "light"
     },
     "output_type": "display_data"
    }
   ],
   "source": [
    "plt.figure(figsize=(8, 6))\n",
    "plt.plot(history.history['accuracy'], label='accuracy')\n",
    "plt.plot(history.history['val_accuracy'], label = 'val_accuracy')\n",
    "plt.xlabel('Epoch')\n",
    "plt.ylabel('Accuracy')\n",
    "plt.ylim([0, 1])\n",
    "plt.legend(loc='lower right')\n",
    "plt.show()\n"
   ]
  },
  {
   "cell_type": "code",
   "execution_count": 14,
   "id": "d14ac0c3-3795-47de-9a8a-1b719526e332",
   "metadata": {},
   "outputs": [
    {
     "name": "stdout",
     "output_type": "stream",
     "text": [
      "313/313 [==============================] - 2s 7ms/step\n",
      "[1.2185551e-07 5.8515747e-05 1.9380487e-07 8.6588460e-01 2.3118731e-07\n",
      " 8.5588567e-02 8.9577475e-07 4.6035617e-05 4.8158817e-02 2.6197295e-04]\n"
     ]
    }
   ],
   "source": [
    "# Convert the logits to probabilities\n",
    "probability_model = tf.keras.Sequential([model, tf.keras.layers.Softmax()])\n",
    "\n",
    "# Make predictions on test images\n",
    "predictions = probability_model.predict(test_images)\n",
    "\n",
    "# Show the first prediction\n",
    "print(predictions[0])\n"
   ]
  },
  {
   "cell_type": "code",
   "execution_count": 15,
   "id": "900fd7b7-8484-4209-af08-55f493e9984d",
   "metadata": {},
   "outputs": [],
   "source": [
    "model.save('cifar10_model.h5')"
   ]
  },
  {
   "cell_type": "code",
   "execution_count": 16,
   "id": "904c9d3b-7412-4558-b122-186fd24c7f65",
   "metadata": {},
   "outputs": [],
   "source": [
    "from tensorflow.keras.models import load_model\n",
    "\n",
    "model = load_model('cifar10_model.h5')"
   ]
  },
  {
   "cell_type": "code",
   "execution_count": 17,
   "id": "ff7fb54f-1e85-4793-a101-96448249407e",
   "metadata": {},
   "outputs": [],
   "source": [
    "# train_images"
   ]
  },
  {
   "cell_type": "code",
   "execution_count": 18,
   "id": "a995ffd7-f393-42ac-8f09-e4466884b9c6",
   "metadata": {},
   "outputs": [
    {
     "name": "stdout",
     "output_type": "stream",
     "text": [
      "313/313 [==============================] - 3s 8ms/step - loss: 1.2836 - accuracy: 0.7046\n",
      "Test accuracy: 0.70\n"
     ]
    }
   ],
   "source": [
    "test_loss, test_acc = model.evaluate(test_images, test_labels)\n",
    "print(f'Test accuracy: {test_acc:.2f}')"
   ]
  },
  {
   "cell_type": "code",
   "execution_count": null,
   "id": "c146a156-339c-445d-99d7-70083e07ee6d",
   "metadata": {},
   "outputs": [],
   "source": []
  }
 ],
 "metadata": {
  "kernelspec": {
   "display_name": "Python 3 (ipykernel)",
   "language": "python",
   "name": "python3"
  },
  "language_info": {
   "codemirror_mode": {
    "name": "ipython",
    "version": 3
   },
   "file_extension": ".py",
   "mimetype": "text/x-python",
   "name": "python",
   "nbconvert_exporter": "python",
   "pygments_lexer": "ipython3",
   "version": "3.9.12"
  }
 },
 "nbformat": 4,
 "nbformat_minor": 5
}
