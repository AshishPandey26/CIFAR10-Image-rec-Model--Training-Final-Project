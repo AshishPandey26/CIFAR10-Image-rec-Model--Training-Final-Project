{
 "cells": [
  {
   "cell_type": "code",
   "execution_count": 2,
   "id": "e5abb7b1-aef8-456d-9383-93827da38fa8",
   "metadata": {},
   "outputs": [],
   "source": [
    "import os\n",
    "import numpy as np\n",
    "import cv2\n",
    "from PIL import Image"
   ]
  },
  {
   "cell_type": "code",
   "execution_count": 3,
   "id": "ca0416c1-d732-4826-9564-098d308a2aad",
   "metadata": {
    "scrolled": true
   },
   "outputs": [],
   "source": [
    "import tensorflow as tf"
   ]
  },
  {
   "cell_type": "code",
   "execution_count": 4,
   "id": "a4a3faa9-426f-42ad-9aa4-37eb5deb3d82",
   "metadata": {},
   "outputs": [],
   "source": [
    "image_path = r\"E:\\BTC Market Project\\cifar-10\\images\\train\\2.png\""
   ]
  },
  {
   "cell_type": "code",
   "execution_count": 9,
   "id": "cd6352fc-87e5-4b49-b316-199462e88b5e",
   "metadata": {},
   "outputs": [
    {
     "data": {
      "image/jpeg": "[encoded data removed]",
      "image/png": "[encoded data removed]",
      "text/plain": [
       "<PIL.PngImagePlugin.PngImageFile image mode=RGB size=32x32>"
      ]
     },
     "execution_count": 9,
     "metadata": {},
     "output_type": "execute_result"
    }
   ],
   "source": [
    "truck_image = Image.open(image_path)\n",
    "truck_image"
   ]
  },
  {
   "cell_type": "code",
   "execution_count": 5,
   "id": "97b9e1a5-8109-4281-b6f3-6d6b633d3994",
   "metadata": {},
   "outputs": [],
   "source": [
    "import tensorflow as tf\n",
    "from tensorflow.keras import datasets, layers, models\n",
    "import matplotlib.pyplot as plt\n",
    "import numpy as np\n"
   ]
  },
  {
   "cell_type": "code",
   "execution_count": 6,
   "id": "77d8d37b-d00a-4c14-bb76-9ced8137737e",
   "metadata": {},
   "outputs": [
    {
     "name": "stdout",
     "output_type": "stream",
     "text": [
      "Downloading data from https://www.cs.toronto.edu/~kriz/cifar-10-python.tar.gz\n",
      "170498071/170498071 [==============================] - 21s 0us/step\n"
     ]
    }
   ],
   "source": [
    "# Load the dataset\n",
    "(train_images, train_labels), (test_images, test_labels) = datasets.cifar10.load_data()\n",
    "\n"
   ]
  },
  {
   "cell_type": "code",
   "execution_count": 7,
   "id": "079dd453-1496-45e5-b14f-a21532591d82",
   "metadata": {},
   "outputs": [],
   "source": [
    "# Normalize pixel values to be between 0 and 1\n",
    "train_images, test_images = train_images / 255.0, test_images / 255.0"
   ]
  },
  {
   "cell_type": "code",
   "execution_count": 11,
   "id": "9269944b-1f20-4e94-8034-4254689fb89d",
   "metadata": {},
   "outputs": [],
   "source": [
    "# train_images"
   ]
  },
  {
   "cell_type": "code",
   "execution_count": 12,
   "id": "090c6a3f-58a7-471d-a2ac-adb0f50765e8",
   "metadata": {},
   "outputs": [],
   "source": [
    "model = models.Sequential([\n",
    "    layers.Conv2D(32, (3, 3), activation='relu', input_shape=(32, 32, 3)),\n",
    "    layers.MaxPooling2D((2, 2)),\n",
    "    layers.Conv2D(64, (3, 3), activation='relu'),\n",
    "    layers.MaxPooling2D((2, 2)),\n",
    "    layers.Conv2D(64, (3, 3), activation='relu'),\n",
    "    layers.Flatten(),\n",
    "    layers.Dense(64, activation='relu'),\n",
    "    layers.Dense(10)\n",
    "])\n"
   ]
  },
  {
   "cell_type": "code",
   "execution_count": 13,
   "id": "031106b2-e759-40dd-a460-47e071da5fa9",
   "metadata": {},
   "outputs": [],
   "source": [
    "model.compile(optimizer='adam',\n",
    "              loss=tf.keras.losses.SparseCategoricalCrossentropy(from_logits=True),\n",
    "              metrics=['accuracy'])\n"
   ]
  },
  {
   "cell_type": "code",
   "execution_count": 15,
   "id": "dca9ed2c-5cbc-4a01-a031-4d4fbb4bb493",
   "metadata": {},
   "outputs": [
    {
     "name": "stdout",
     "output_type": "stream",
     "text": [
      "Epoch 1/10\n",
      "1563/1563 [==============================] - 37s 22ms/step - loss: 1.5217 - accuracy: 0.4446 - val_loss: 1.3138 - val_accuracy: 0.5142\n",
      "Epoch 2/10\n",
      "1563/1563 [==============================] - 32s 21ms/step - loss: 1.1525 - accuracy: 0.5899 - val_loss: 1.0630 - val_accuracy: 0.6263\n",
      "Epoch 3/10\n",
      "1563/1563 [==============================] - 33s 21ms/step - loss: 1.0035 - accuracy: 0.6462 - val_loss: 0.9749 - val_accuracy: 0.6520\n",
      "Epoch 4/10\n",
      "1563/1563 [==============================] - 33s 21ms/step - loss: 0.9127 - accuracy: 0.6782 - val_loss: 0.9469 - val_accuracy: 0.6718\n",
      "Epoch 5/10\n",
      "1563/1563 [==============================] - 33s 21ms/step - loss: 0.8331 - accuracy: 0.7070 - val_loss: 0.9134 - val_accuracy: 0.6860\n",
      "Epoch 6/10\n",
      "1563/1563 [==============================] - 33s 21ms/step - loss: 0.7779 - accuracy: 0.7247 - val_loss: 0.9189 - val_accuracy: 0.6802\n",
      "Epoch 7/10\n",
      "1563/1563 [==============================] - 33s 21ms/step - loss: 0.7236 - accuracy: 0.7468 - val_loss: 0.8518 - val_accuracy: 0.7122\n",
      "Epoch 8/10\n",
      "1563/1563 [==============================] - 33s 21ms/step - loss: 0.6778 - accuracy: 0.7629 - val_loss: 0.9326 - val_accuracy: 0.6828\n",
      "Epoch 9/10\n",
      "1563/1563 [==============================] - 35s 22ms/step - loss: 0.6382 - accuracy: 0.7738 - val_loss: 0.8724 - val_accuracy: 0.7074\n",
      "Epoch 10/10\n",
      "1563/1563 [==============================] - 33s 21ms/step - loss: 0.5959 - accuracy: 0.7905 - val_loss: 0.8838 - val_accuracy: 0.7053\n"
     ]
    }
   ],
   "source": [
    "history = model.fit(train_images, train_labels, epochs=10, \n",
    "                    validation_data=(test_images, test_labels))\n"
   ]
  },
  {
   "cell_type": "code",
   "execution_count": 16,
   "id": "f38722d5-8185-475e-b7ad-5273545c2d0e",
   "metadata": {},
   "outputs": [
    {
     "name": "stdout",
     "output_type": "stream",
     "text": [
      "313/313 - 2s - loss: 0.8838 - accuracy: 0.7053 - 2s/epoch - 8ms/step\n",
      "\n",
      "Test accuracy: 0.705299973487854\n"
     ]
    }
   ],
   "source": [
    "test_loss, test_acc = model.evaluate(test_images, test_labels, verbose=2)\n",
    "print(f'\\nTest accuracy: {test_acc}')\n"
   ]
  },
  {
   "cell_type": "code",
   "execution_count": 17,
   "id": "39c60547-6d16-43c1-baaf-bfe4e339f9a7",
   "metadata": {},
   "outputs": [
    {
     "data": {
      "image/png": "[encoded data removed]",
      "text/plain": [
       "<Figure size 576x432 with 1 Axes>"
      ]
     },
     "metadata": {
      "needs_background": "light"
     },
     "output_type": "display_data"
    }
   ],
   "source": [
    "plt.figure(figsize=(8, 6))\n",
    "plt.plot(history.history['accuracy'], label='accuracy')\n",
    "plt.plot(history.history['val_accuracy'], label = 'val_accuracy')\n",
    "plt.xlabel('Epoch')\n",
    "plt.ylabel('Accuracy')\n",
    "plt.ylim([0, 1])\n",
    "plt.legend(loc='lower right')\n",
    "plt.show()\n"
   ]
  },
  {
   "cell_type": "code",
   "execution_count": 18,
   "id": "d14ac0c3-3795-47de-9a8a-1b719526e332",
   "metadata": {},
   "outputs": [
    {
     "name": "stdout",
     "output_type": "stream",
     "text": [
      "313/313 [==============================] - 3s 8ms/step\n",
      "[3.4698083e-03 7.5243815e-04 6.0792750e-04 7.0295960e-01 1.1220392e-04\n",
      " 8.1568249e-02 9.0396609e-03 1.2567286e-04 1.9892491e-01 2.4395844e-03]\n"
     ]
    }
   ],
   "source": [
    "# Convert the logits to probabilities\n",
    "probability_model = tf.keras.Sequential([model, tf.keras.layers.Softmax()])\n",
    "\n",
    "# Make predictions on test images\n",
    "predictions = probability_model.predict(test_images)\n",
    "\n",
    "# Show the first prediction\n",
    "print(predictions[0])\n"
   ]
  },
  {
   "cell_type": "code",
   "execution_count": 20,
   "id": "900fd7b7-8484-4209-af08-55f493e9984d",
   "metadata": {},
   "outputs": [],
   "source": [
    "model.save('cifar10_model.h5')"
   ]
  },
  {
   "cell_type": "code",
   "execution_count": null,
   "id": "904c9d3b-7412-4558-b122-186fd24c7f65",
   "metadata": {},
   "outputs": [],
   "source": []
  }
 ],
 "metadata": {
  "kernelspec": {
   "display_name": "Python 3 (ipykernel)",
   "language": "python",
   "name": "python3"
  },
  "language_info": {
   "codemirror_mode": {
    "name": "ipython",
    "version": 3
   },
   "file_extension": ".py",
   "mimetype": "text/x-python",
   "name": "python",
   "nbconvert_exporter": "python",
   "pygments_lexer": "ipython3",
   "version": "3.9.12"
  }
 },
 "nbformat": 4,
 "nbformat_minor": 5
}
